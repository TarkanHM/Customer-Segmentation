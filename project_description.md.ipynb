{
 "cells": [
  {
   "cell_type": "markdown",
   "metadata": {},
   "source": [
    "### Creating Customer Segments\n",
    "\n",
    "## Description\n",
    "\n",
    "A wholesale distributor recently tested a change to their delivery method for some customers, by moving from a morning delivery service five days a week to a cheaper evening delivery service three days a week. Initial testing did not discover any significant unsatisfactory results, so they implemented the cheaper option for all customers. Almost immediately, the distributor began getting complaints about the delivery service change and customers were canceling deliveries, losing the distributor more money than what was being saved. \n",
    "\n",
    "The purpose of this project is to help the wholesale distributer to find what types of customers they have to help them make better, more informed business decisions in the future. \n",
    "\n",
    "Using unsupervised learning techniques becomes very handy in this project, to see if any similarities exist between customers, and how to best segment customers into distinct categories.\n",
    "\n",
    "**Features**\n",
    "\n",
    "\n",
    "1) `Fresh`: annual spending (m.u.) on fresh products (Continuous); \n",
    "\n",
    "2) `Milk`: annual spending (m.u.) on milk products (Continuous); \n",
    "\n",
    "3) `Grocery`: annual spending (m.u.) on grocery products (Continuous); \n",
    "\n",
    "4) `Frozen`: annual spending (m.u.) on frozen products (Continuous);\n",
    "\n",
    "5) `Detergents_Paper`: annual spending (m.u.) on detergents and paper products (Continuous);\n",
    "\n",
    "6) `Delicatessen`: annual spending (m.u.) on and delicatessen products (Continuous); \n",
    "\n",
    "7) `Channel`: {Hotel/Restaurant/Cafe - 1, Retail - 2} (Nominal)\n",
    "\n",
    "8) `Region`: {Lisbon - 1, Oporto - 2, or Other - 3} (Nominal) \n",
    "\n",
    "**Dataset**\n",
    "\n",
    "https://archive.ics.uci.edu/ml/datasets/Wholesale+customers\n"
   ]
  }
 ],
 "metadata": {
  "kernelspec": {
   "display_name": "Python 2",
   "language": "python",
   "name": "python2"
  },
  "language_info": {
   "codemirror_mode": {
    "name": "ipython",
    "version": 2
   },
   "file_extension": ".py",
   "mimetype": "text/x-python",
   "name": "python",
   "nbconvert_exporter": "python",
   "pygments_lexer": "ipython2",
   "version": "2.7.13"
  }
 },
 "nbformat": 4,
 "nbformat_minor": 2
}
